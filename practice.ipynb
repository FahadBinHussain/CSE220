{
 "cells": [
  {
   "cell_type": "markdown",
   "metadata": {},
   "source": [
    "<center>Practice Sheet One - Array</center>"
   ]
  },
  {
   "cell_type": "markdown",
   "metadata": {},
   "source": [
    "Array"
   ]
  },
  {
   "cell_type": "code",
   "execution_count": 6,
   "metadata": {},
   "outputs": [],
   "source": [
    "# YOU MUST RUN THIS CELL FIRST!!\n",
    "import numpy as np"
   ]
  },
  {
   "cell_type": "markdown",
   "metadata": {},
   "source": [
    "Question 1"
   ]
  },
  {
   "cell_type": "code",
   "execution_count": 1,
   "metadata": {},
   "outputs": [
    {
     "name": "stdout",
     "output_type": "stream",
     "text": [
      "Union:  [1 2 3 4 5]\n",
      "Count:  5\n",
      "Union:  [85 25  1 32 54  6  2]\n",
      "Count:  7\n"
     ]
    }
   ],
   "source": [
    "def union_arrays(a, b): \n",
    "    # Initialize an array to hold the union with maximum possible size\n",
    "    max_size = len(a) + len(b)\n",
    "    union_arr = np.zeros(max_size, dtype=a.dtype)\n",
    "    current_index = 0\n",
    "    \n",
    "    # Add all elements from the first array to the union\n",
    "    for element in a: \n",
    "        if element not in union_arr[: current_index]: \n",
    "            union_arr[current_index] = element\n",
    "            current_index += 1\n",
    "    \n",
    "    # Add elements from the second array that are not already in the union\n",
    "    for element in b: \n",
    "        if element not in union_arr[: current_index]: \n",
    "            union_arr[current_index] = element\n",
    "            current_index += 1\n",
    "    \n",
    "    # Resize the union array to the actual number of unique elements\n",
    "    union_arr = union_arr[: current_index]\n",
    "    return union_arr, len(union_arr)\n",
    "\n",
    "# Example usage: \n",
    "a = np.array([1, 2, 3, 4, 5])\n",
    "b = np.array([1, 2, 3])\n",
    "union, count = union_arrays(a, b)\n",
    "print(\"Union: \", union)\n",
    "print(\"Count: \", count)\n",
    "\n",
    "a = np.array([85, 25, 1, 32, 54, 6])\n",
    "b = np.array([85, 2])\n",
    "union, count = union_arrays(a, b)\n",
    "print(\"Union: \", union)\n",
    "print(\"Count: \", count)"
   ]
  },
  {
   "cell_type": "markdown",
   "metadata": {},
   "source": [
    "Question 2 "
   ]
  },
  {
   "cell_type": "code",
   "execution_count": 2,
   "metadata": {},
   "outputs": [
    {
     "name": "stdout",
     "output_type": "stream",
     "text": [
      "Rearranged Array 1:  [ 1  3  2 11  6 -1 -7 -5]\n",
      "Rearranged Array 2:  [ 7  9 10 11 -5 -3 -4 -1]\n"
     ]
    }
   ],
   "source": [
    "def rearrange_array(arr): \n",
    "    # Initialize two empty arrays for positive and negative numbers\n",
    "    positive = np.zeros(len(arr), dtype=int)\n",
    "    negative = np.zeros(len(arr), dtype=int)\n",
    "    pos_count, neg_count = 0, 0\n",
    "    \n",
    "    # Separate positive and negative numbers\n",
    "    for num in arr: \n",
    "        if num >= 0: \n",
    "            positive[pos_count] = num\n",
    "            pos_count += 1\n",
    "        else: \n",
    "            negative[neg_count] = num\n",
    "            neg_count += 1\n",
    "    \n",
    "    # Combine the positive and negative arrays\n",
    "    rearranged = np.concatenate((positive[: pos_count], negative[: neg_count]))\n",
    "    return rearranged\n",
    "\n",
    "# Example usage: \n",
    "arr1 = np.array([1, -1, 3, 2, -7, -5, 11, 6])\n",
    "print(\"Rearranged Array 1: \", rearrange_array(arr1))\n",
    "\n",
    "arr2 = np.array([-5, 7, -3, -4, 9, 10, -1, 11])\n",
    "print(\"Rearranged Array 2: \", rearrange_array(arr2))"
   ]
  },
  {
   "cell_type": "markdown",
   "metadata": {},
   "source": [
    "Question 3"
   ]
  },
  {
   "cell_type": "code",
   "execution_count": 3,
   "metadata": {},
   "outputs": [
    {
     "name": "stdout",
     "output_type": "stream",
     "text": [
      "Sub-array indices for sum 12 :  (2, 4)\n",
      "Sub-array indices for sum 15 :  (1, 5)\n"
     ]
    }
   ],
   "source": [
    "def find_subarray(A, S): \n",
    "    # Initialize start and end pointers, and the current sum\n",
    "    start = 0\n",
    "    end = 0\n",
    "    current_sum = A[0]\n",
    "    \n",
    "    # Loop until the end pointer reaches the end of the array\n",
    "    while end < len(A): \n",
    "        # If the current sum is equal to S, return the start and end indices\n",
    "        if current_sum == S: \n",
    "            return (start + 1, end + 1)  # +1 for 1-based indexing\n",
    "        # If the current sum is less than S, move the end pointer to the right\n",
    "        if current_sum < S and end < len(A) - 1: \n",
    "            end += 1\n",
    "            current_sum += A[end]\n",
    "        # If the current sum is greater than S, move the start pointer to the right\n",
    "        elif current_sum > S: \n",
    "            current_sum -= A[start]\n",
    "            start += 1\n",
    "        # If the end pointer has reached the last element and the sum is not equal to S\n",
    "        else: \n",
    "            break\n",
    "    \n",
    "    return (-1, -1)  # Return -1 if no sub-array is found\n",
    "\n",
    "# Example usage: \n",
    "N1, S1 = 5, 12\n",
    "A1 = np.array([1, 2, 3, 7, 5])\n",
    "print(\"Sub-array indices for sum\", S1, \": \", find_subarray(A1, S1))\n",
    "\n",
    "N2, S2 = 10, 15\n",
    "A2 = np.array([1, 2, 3, 4, 5, 6, 7, 8, 9, 10])\n",
    "print(\"Sub-array indices for sum\", S2, \": \", find_subarray(A2, S2))"
   ]
  },
  {
   "cell_type": "markdown",
   "metadata": {},
   "source": [
    "Question 4"
   ]
  },
  {
   "cell_type": "code",
   "execution_count": 4,
   "metadata": {},
   "outputs": [
    {
     "name": "stdout",
     "output_type": "stream",
     "text": [
      "Frequency of 1 is:  5\n"
     ]
    }
   ],
   "source": [
    "def frequency_of_x(arr, X): \n",
    "    # Initialize count to 0\n",
    "    count = 0\n",
    "    \n",
    "    # Iterate through the array and count occurrences of X\n",
    "    for element in arr: \n",
    "        if element == X: \n",
    "            count += 1\n",
    "            \n",
    "    return count\n",
    "\n",
    "# Example usage: \n",
    "N = 5\n",
    "arr = np.array([1, 1, 1, 1, 1])\n",
    "X = 1\n",
    "print(\"Frequency of\", X, \"is: \", frequency_of_x(arr, X))"
   ]
  },
  {
   "cell_type": "markdown",
   "metadata": {},
   "source": [
    "Question 5"
   ]
  },
  {
   "cell_type": "code",
   "execution_count": 6,
   "metadata": {},
   "outputs": [
    {
     "name": "stdout",
     "output_type": "stream",
     "text": [
      "The 3rd smallest element is:  7\n",
      "The 4th smallest element is:  15\n"
     ]
    }
   ],
   "source": [
    "def kth_smallest(arr, K): \n",
    "    # Create a boolean array of the same size as 'arr' initialized to False\n",
    "    selected = np.zeros(len(arr), dtype=bool)\n",
    "    \n",
    "    for i in range(K): \n",
    "        # Find the smallest value among the unselected elements\n",
    "        min_val = np.inf\n",
    "        for j in range(len(arr)): \n",
    "            if not selected[j] and arr[j] < min_val: \n",
    "                min_val = arr[j]\n",
    "                min_index = j\n",
    "        \n",
    "        # Mark this element as selected\n",
    "        selected[min_index] = True\n",
    "    \n",
    "    return min_val\n",
    "\n",
    "# Example usage: \n",
    "N1 = 6\n",
    "arr1 = np.array([7, 10, 4, 3, 20, 15])\n",
    "K1 = 3\n",
    "print(\"The 3rd smallest element is: \", kth_smallest(arr1, K1))\n",
    "\n",
    "N2 = 5\n",
    "arr2 = np.array([7, 10, 4, 20, 15])\n",
    "K2 = 4\n",
    "print(\"The 4th smallest element is: \", kth_smallest(arr2, K2))"
   ]
  },
  {
   "cell_type": "markdown",
   "metadata": {},
   "source": [
    "Question 6"
   ]
  },
  {
   "cell_type": "code",
   "execution_count": 9,
   "metadata": {},
   "outputs": [
    {
     "name": "stdout",
     "output_type": "stream",
     "text": [
      "Sorted Array 1:   [0 0 1 2 2]\n",
      "Sorted Array 2:   [0 0 1]\n"
     ]
    }
   ],
   "source": [
    "def sort_012(arr): \n",
    "    # Count the number of 0s, 1s, and 2s\n",
    "    count_0 = count_1 = count_2 = 0\n",
    "    for num in arr: \n",
    "        if num == 0: \n",
    "            count_0 += 1\n",
    "        elif num == 1: \n",
    "            count_1 += 1\n",
    "        else: \n",
    "            count_2 += 1\n",
    "    \n",
    "    # Overwrite the original array with sorted 0s, 1s, and 2s\n",
    "    arr[: count_0] = 0\n",
    "    arr[count_0: count_0 + count_1] = 1\n",
    "    arr[count_0 + count_1: ] = 2\n",
    "    return arr\n",
    "\n",
    "# Example usage: \n",
    "N1 = 5\n",
    "arr1 = np.array([0, 2, 1, 2, 0])\n",
    "print(\"Sorted Array 1:  \", sort_012(arr1))\n",
    "\n",
    "N2 = 3\n",
    "arr2 = np.array([0, 1, 0])\n",
    "print(\"Sorted Array 2:  \", sort_012(arr2))"
   ]
  },
  {
   "cell_type": "markdown",
   "metadata": {},
   "source": [
    "Question 7"
   ]
  },
  {
   "cell_type": "code",
   "execution_count": 2,
   "metadata": {},
   "outputs": [
    {
     "name": "stdout",
     "output_type": "stream",
     "text": [
      "Water trapped:   10\n"
     ]
    }
   ],
   "source": [
    "def trap_rain_water(arr): \n",
    "    n = len(arr)\n",
    "    water_trapped = 0\n",
    "    \n",
    "    # Calculate left max for each element\n",
    "    left_max = np.zeros(n, dtype=int)\n",
    "    current_max = 0\n",
    "    for i in range(n): \n",
    "        if arr[i] > current_max: \n",
    "            current_max = arr[i]\n",
    "        left_max[i] = current_max\n",
    "    \n",
    "    # Calculate right max for each element\n",
    "    right_max = np.zeros(n, dtype=int)\n",
    "    current_max = 0\n",
    "    for i in range(n-1, -1, -1): \n",
    "        if arr[i] > current_max: \n",
    "            current_max = arr[i]\n",
    "        right_max[i] = current_max\n",
    "    \n",
    "    # Calculate trapped water\n",
    "    for i in range(n): \n",
    "        # Find the smaller of the two max values\n",
    "        height = left_max[i] if left_max[i] < right_max[i] else right_max[i]\n",
    "        water_trapped += height - arr[i]\n",
    "    \n",
    "    return water_trapped\n",
    "\n",
    "# Example usage: \n",
    "arr = np.array([3, 0, 0, 2, 0, 4], dtype=int)\n",
    "print(\"Water trapped:  \", trap_rain_water(arr))"
   ]
  },
  {
   "cell_type": "markdown",
   "metadata": {},
   "source": [
    "Question 8"
   ]
  },
  {
   "cell_type": "code",
   "execution_count": 7,
   "metadata": {},
   "outputs": [
    {
     "name": "stdout",
     "output_type": "stream",
     "text": [
      "Wave sorted array 1:  [2 1 4 3 5]\n",
      "Wave sorted array 2:  [ 4  2  8  7 10  9]\n"
     ]
    }
   ],
   "source": [
    "def sort_wave(arr): \n",
    "    # Iterate over the array in steps of 2\n",
    "    for i in range(0, len(arr)-1, 2): \n",
    "        # Swap the current element with the next one\n",
    "        arr[i], arr[i+1] = arr[i+1], arr[i]\n",
    "    return arr\n",
    "\n",
    "# Example usage: \n",
    "arr1 = np.array([1, 2, 3, 4, 5])\n",
    "print(\"Wave sorted array 1: \", sort_wave(arr1))\n",
    "\n",
    "arr2 = np.array([2, 4, 7, 8, 9, 10])\n",
    "print(\"Wave sorted array 2: \", sort_wave(arr2))"
   ]
  },
  {
   "cell_type": "markdown",
   "metadata": {},
   "source": [
    "Question 9"
   ]
  },
  {
   "cell_type": "code",
   "execution_count": 8,
   "metadata": {},
   "outputs": [
    {
     "name": "stdout",
     "output_type": "stream",
     "text": [
      "Majority element (Example 1):   -1\n",
      "Majority element (Example 2):   3\n"
     ]
    }
   ],
   "source": [
    "def find_majority_element(arr): \n",
    "    candidate = None\n",
    "    count = 0\n",
    "    \n",
    "    # Step 1:  Find a potential candidate\n",
    "    for num in arr: \n",
    "        if count == 0: \n",
    "            candidate = num\n",
    "        count += (1 if num == candidate else -1)\n",
    "    \n",
    "    # Step 2:  Verify if the candidate is indeed the majority element\n",
    "    count = 0\n",
    "    for num in arr: \n",
    "        if num == candidate: \n",
    "            count += 1\n",
    "    \n",
    "    # If count is more than half the size of the array, we have a majority element\n",
    "    if count > len(arr) // 2: \n",
    "        return candidate\n",
    "    else: \n",
    "        return -1\n",
    "\n",
    "# Example usage: \n",
    "A1 = np.array([1, 2, 3])\n",
    "print(\"Majority element (Example 1):  \", find_majority_element(A1))\n",
    "\n",
    "A2 = np.array([3, 1, 3, 3, 2])\n",
    "print(\"Majority element (Example 2):  \", find_majority_element(A2))"
   ]
  },
  {
   "cell_type": "markdown",
   "metadata": {},
   "source": [
    "Question 10"
   ]
  },
  {
   "cell_type": "code",
   "execution_count": 10,
   "metadata": {},
   "outputs": [
    {
     "name": "stdout",
     "output_type": "stream",
     "text": [
      "Minimum jumps (Example 1):   3\n",
      "Minimum jumps (Example 2):   2\n"
     ]
    }
   ],
   "source": [
    "def min_jumps(arr): \n",
    "    n = len(arr)\n",
    "    if n <= 1: \n",
    "        return 0\n",
    "    if arr[0] == 0: \n",
    "        return -1\n",
    "\n",
    "    # Initialize jumps to 1 (the first jump)\n",
    "    jumps = 1\n",
    "    # The range of the current jump\n",
    "    range_end = arr[0]\n",
    "    # The furthest we can reach with the next jump\n",
    "    furthest_reach = arr[0]\n",
    "\n",
    "    for i in range(1, n): \n",
    "        # If we have reached the end of the array, return the number of jumps\n",
    "        if i == n - 1: \n",
    "            return jumps\n",
    "        # Update the furthest we can reach\n",
    "        furthest_reach = i + arr[i] if i + arr[i] > furthest_reach else furthest_reach\n",
    "        # If we have come to the end of the current jump range\n",
    "        if i == range_end: \n",
    "            # We need another jump\n",
    "            jumps += 1\n",
    "            # Check if the current index is within the new range\n",
    "            if i > furthest_reach: \n",
    "                # If not, we cannot move forward, return -1\n",
    "                return -1\n",
    "            # Update the range end to the furthest we can reach with the next jump\n",
    "            range_end = furthest_reach\n",
    "\n",
    "    return -1  # If we haven't returned by now, we can't reach the end\n",
    "\n",
    "# Example usage: \n",
    "arr1 = np.array([1, 3, 5, 8, 9, 2, 6, 7, 6, 8, 9], dtype=int)\n",
    "print(\"Minimum jumps (Example 1):  \", min_jumps(arr1))\n",
    "\n",
    "arr2 = np.array([1, 4, 3, 2, 6, 7], dtype=int)\n",
    "print(\"Minimum jumps (Example 2):  \", min_jumps(arr2))"
   ]
  },
  {
   "cell_type": "markdown",
   "metadata": {},
   "source": [
    "Question 11"
   ]
  },
  {
   "cell_type": "code",
   "execution_count": 11,
   "metadata": {},
   "outputs": [
    {
     "name": "stdout",
     "output_type": "stream",
     "text": [
      "Minimum difference after modifications:   5\n"
     ]
    }
   ],
   "source": [
    "def adjust_heights(arr, K): \n",
    "    # Initialize variables\n",
    "    n = len(arr)\n",
    "    if n == 1: \n",
    "        return 0\n",
    "\n",
    "    # Manually sort the array\n",
    "    for i in range(n): \n",
    "        for j in range(0, n-i-1): \n",
    "            if arr[j] > arr[j+1]: \n",
    "                arr[j], arr[j+1] = arr[j+1], arr[j]\n",
    "\n",
    "    # Initialize the result with the initial maximum possible difference\n",
    "    result = arr[-1] - arr[0]\n",
    "\n",
    "    # The new maximum and minimum\n",
    "    new_max = arr[-1] - K\n",
    "    new_min = arr[0] + K\n",
    "\n",
    "    # Traverse the sorted array\n",
    "    for i in range(1, n-1): \n",
    "        increase = arr[i] + K\n",
    "        decrease = arr[i] - K\n",
    "\n",
    "        # Skip if decreasing below zero\n",
    "        if decrease < 0: \n",
    "            continue\n",
    "\n",
    "        # Calculate the new maximum and minimum\n",
    "        current_max = increase if increase > new_max else new_max\n",
    "        current_min = decrease if decrease < new_min else new_min\n",
    "\n",
    "        # Update the result if the current difference is smaller\n",
    "        current_diff = current_max - current_min\n",
    "        result = current_diff if current_diff < result else result\n",
    "\n",
    "    return result\n",
    "\n",
    "# Example usage: \n",
    "K = 2\n",
    "arr = np.array([1, 5, 8, 10], dtype=int)\n",
    "print(\"Minimum difference after modifications:  \", adjust_heights(arr, K))"
   ]
  },
  {
   "cell_type": "markdown",
   "metadata": {},
   "source": [
    "Question 12"
   ]
  },
  {
   "cell_type": "code",
   "execution_count": 13,
   "metadata": {},
   "outputs": [
    {
     "name": "stdout",
     "output_type": "stream",
     "text": [
      "Minimum number of platforms needed:    3\n"
     ]
    }
   ],
   "source": [
    "def custom_sort(times):  \n",
    "    # Implementing bubble sort\n",
    "    for i in range(len(times)):  \n",
    "        for j in range(0, len(times) - i - 1):  \n",
    "            if times[j] > times[j + 1]:  \n",
    "                times[j], times[j + 1] = times[j + 1], times[j]\n",
    "    return times\n",
    "\n",
    "def find_platforms(arrivals, departures):  \n",
    "    # Sort the arrival and departure times\n",
    "    arrivals = custom_sort(arrivals)\n",
    "    departures = custom_sort(departures)\n",
    "\n",
    "    # Initialize platform count and result\n",
    "    platform_count = 1\n",
    "    result = 1\n",
    "    i = 1\n",
    "    j = 0\n",
    "    n = len(arrivals)\n",
    "\n",
    "    # Iterate over intervals\n",
    "    while i < n and j < n:  \n",
    "        # If next event in sorted order is arrival, increment count of platforms needed\n",
    "        if arrivals[i] <= departures[j]:  \n",
    "            platform_count += 1\n",
    "            i += 1\n",
    "        # Else decrement count of platforms needed\n",
    "        elif arrivals[i] > departures[j]:  \n",
    "            platform_count -= 1\n",
    "            j += 1\n",
    "        # Update result if needed\n",
    "        result = platform_count if platform_count > result else result\n",
    "\n",
    "    return result\n",
    "\n",
    "# Example usage:  \n",
    "n = 6\n",
    "arrivals = np.array([900, 940, 950, 1100, 1500, 1800], dtype=int)\n",
    "departures = np.array([910, 1200, 1120, 1130, 1900, 2000], dtype=int)\n",
    "\n",
    "print(\"Minimum number of platforms needed:   \", find_platforms(arrivals, departures))"
   ]
  },
  {
   "cell_type": "markdown",
   "metadata": {},
   "source": [
    "Question 13"
   ]
  },
  {
   "cell_type": "code",
   "execution_count": 14,
   "metadata": {},
   "outputs": [
    {
     "name": "stdout",
     "output_type": "stream",
     "text": [
      "Minimum difference (Example 1):   6\n",
      "Minimum difference (Example 2):   2\n"
     ]
    }
   ],
   "source": [
    "import numpy as np\n",
    "\n",
    "def custom_sort(arr): \n",
    "    # Implementing bubble sort\n",
    "    for i in range(len(arr)): \n",
    "        for j in range(0, len(arr) - i - 1): \n",
    "            if arr[j] > arr[j + 1]: \n",
    "                arr[j], arr[j + 1] = arr[j + 1], arr[j]\n",
    "    return arr\n",
    "\n",
    "def find_min_diff(arr, N, M): \n",
    "    # Sort the array of chocolates\n",
    "    arr = custom_sort(arr)\n",
    "    \n",
    "    # Initialize the minimum difference to a large number\n",
    "    min_diff = np.inf\n",
    "    \n",
    "    # Find the minimum difference by checking each window of size M\n",
    "    for i in range(N - M + 1): \n",
    "        diff = arr[i + M - 1] - arr[i]\n",
    "        if diff < min_diff: \n",
    "            min_diff = diff\n",
    "    \n",
    "    return min_diff\n",
    "\n",
    "# Example usage: \n",
    "N1, M1 = 8, 5\n",
    "A1 = np.array([3, 4, 1, 9, 56, 7, 9, 12], dtype=int)\n",
    "print(\"Minimum difference (Example 1):  \", find_min_diff(A1, N1, M1))\n",
    "\n",
    "N2, M2 = 7, 3\n",
    "A2 = np.array([7, 3, 2, 4, 9, 12, 56], dtype=int)\n",
    "print(\"Minimum difference (Example 2):  \", find_min_diff(A2, N2, M2))"
   ]
  },
  {
   "cell_type": "markdown",
   "metadata": {},
   "source": [
    "Question 14"
   ]
  },
  {
   "cell_type": "code",
   "execution_count": 15,
   "metadata": {},
   "outputs": [
    {
     "name": "stdout",
     "output_type": "stream",
     "text": [
      "Longest consecutive subsequence length:   6\n"
     ]
    }
   ],
   "source": [
    "def longest_consecutive_subsequence(arr): \n",
    "    # Initialize variables\n",
    "    max_length = 0\n",
    "    current_length = 0\n",
    "    n = len(arr)\n",
    "\n",
    "    # Create an array to mark visited elements (initially all False)\n",
    "    visited = np.zeros(n, dtype=bool)\n",
    "\n",
    "    # Custom function to check if an element exists in the array\n",
    "    def element_exists(arr, num): \n",
    "        for i in range(n): \n",
    "            if arr[i] == num: \n",
    "                return True, i\n",
    "        return False, -1\n",
    "\n",
    "    # Iterate over the array\n",
    "    for i in range(n): \n",
    "        # If the element is not visited\n",
    "        if not visited[i]: \n",
    "            current_num = arr[i]\n",
    "            current_length = 1\n",
    "            visited[i] = True\n",
    "\n",
    "            # Check for consecutive elements before the current element\n",
    "            next_num = current_num - 1\n",
    "            exists, index = element_exists(arr, next_num)\n",
    "            while exists and not visited[index]: \n",
    "                visited[index] = True\n",
    "                current_length += 1\n",
    "                next_num -= 1\n",
    "                exists, index = element_exists(arr, next_num)\n",
    "\n",
    "            # Check for consecutive elements after the current element\n",
    "            next_num = current_num + 1\n",
    "            exists, index = element_exists(arr, next_num)\n",
    "            while exists and not visited[index]: \n",
    "                visited[index] = True\n",
    "                current_length += 1\n",
    "                next_num += 1\n",
    "                exists, index = element_exists(arr, next_num)\n",
    "\n",
    "            # Update the maximum length found\n",
    "            max_length = current_length if current_length > max_length else max_length\n",
    "\n",
    "    return max_length\n",
    "\n",
    "# Example usage: \n",
    "a = np.array([2, 6, 1, 9, 4, 5, 3], dtype=int)\n",
    "print(\"Longest consecutive subsequence length:  \", longest_consecutive_subsequence(a))"
   ]
  },
  {
   "cell_type": "markdown",
   "metadata": {},
   "source": [
    "Question 15"
   ]
  },
  {
   "cell_type": "code",
   "execution_count": 16,
   "metadata": {},
   "outputs": [
    {
     "name": "stdout",
     "output_type": "stream",
     "text": [
      "2\n",
      "2.5\n"
     ]
    }
   ],
   "source": [
    "def merge_and_find_median(nums1, nums2):\n",
    "    m, n = nums1.shape[0], nums2.shape[0]  # Getting the sizes of both arrays\n",
    "    merged = np.zeros(m + n, dtype=nums1.dtype)  # Initializing the merged array with the combined size\n",
    "    \n",
    "    i, j, k = 0, 0, 0  # Indexes for nums1, nums2, and merged respectively\n",
    "    \n",
    "    # Merge nums1 and nums2 into merged\n",
    "    while i < m and j < n:\n",
    "        if nums1[i] < nums2[j]:\n",
    "            merged[k] = nums1[i]\n",
    "            i += 1\n",
    "        else:\n",
    "            merged[k] = nums2[j]\n",
    "            j += 1\n",
    "        k += 1\n",
    "    \n",
    "    # If there are remaining elements in nums1\n",
    "    while i < m:\n",
    "        merged[k] = nums1[i]\n",
    "        i += 1\n",
    "        k += 1\n",
    "    \n",
    "    # If there are remaining elements in nums2\n",
    "    while j < n:\n",
    "        merged[k] = nums2[j]\n",
    "        j += 1\n",
    "        k += 1\n",
    "    \n",
    "    # Calculate median\n",
    "    total_length = m + n\n",
    "    if total_length % 2 == 0:  # If even\n",
    "        median = (merged[total_length // 2 - 1] + merged[total_length // 2]) / 2\n",
    "    else:  # If odd\n",
    "        median = merged[total_length // 2]\n",
    "    \n",
    "    print(median)\n",
    "\n",
    "# Example usage\n",
    "nums1 = np.array([1, 3])\n",
    "nums2 = np.array([2])\n",
    "merge_and_find_median(nums1, nums2)\n",
    "\n",
    "nums1 = np.array([1, 2])\n",
    "nums2 = np.array([3, 4])\n",
    "merge_and_find_median(nums1, nums2)\n"
   ]
  }
 ],
 "metadata": {
  "kernelspec": {
   "display_name": "Python 3",
   "language": "python",
   "name": "python3"
  },
  "language_info": {
   "codemirror_mode": {
    "name": "ipython",
    "version": 3
   },
   "file_extension": ".py",
   "mimetype": "text/x-python",
   "name": "python",
   "nbconvert_exporter": "python",
   "pygments_lexer": "ipython3",
   "version": "3.11.0"
  }
 },
 "nbformat": 4,
 "nbformat_minor": 2
}
