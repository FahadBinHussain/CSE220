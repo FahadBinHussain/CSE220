{
 "cells": [
  {
   "cell_type": "markdown",
   "metadata": {},
   "source": [
    "PLEASE STAR MY REPO TO SUPPORT ME :)"
   ]
  },
  {
   "cell_type": "markdown",
   "metadata": {},
   "source": [
    "Questions (All) - "
   ]
  },
  {
   "cell_type": "markdown",
   "metadata": {},
   "source": [
    "Day 01"
   ]
  },
  {
   "cell_type": "markdown",
   "metadata": {},
   "source": [
    "Classwork - \n",
    "https://docs.google.com/document/d/1sBvZpn2JYgMZk19rRZqWMpABm-W4J1YLHTiU5YaF3yU/edit\n",
    "http://archive.today/WoLM4"
   ]
  },
  {
   "cell_type": "markdown",
   "metadata": {},
   "source": [
    "Task 1"
   ]
  },
  {
   "cell_type": "code",
   "execution_count": 1,
   "metadata": {},
   "outputs": [
    {
     "name": "stdout",
     "output_type": "stream",
     "text": [
      "[25 -5]\n",
      "7.960127911260996\n",
      "10.181818181818182\n"
     ]
    }
   ],
   "source": [
    "import math\n",
    "import numpy as np\n",
    "\n",
    "def calculate_mean(arr):\n",
    "    total = 0\n",
    "    for num in arr:\n",
    "        total += num\n",
    "    return total / len(arr)\n",
    "\n",
    "def calculate_std_dev(arr, mean):\n",
    "    variance = 0\n",
    "    for x in arr:\n",
    "        variance += (x - mean) ** 2\n",
    "    variance /= len(arr) - 1\n",
    "    return math.sqrt(variance)\n",
    "\n",
    "def filter_values(arr, mean, std_dev):\n",
    "    arr = np.array(arr)\n",
    "    lower_bound = mean - 1.5 * std_dev\n",
    "    upper_bound = mean + 1.5 * std_dev\n",
    "    return arr[(arr < lower_bound) | (arr > upper_bound)]\n",
    "\n",
    "numbers = [10, 8, 13, 9, 14, 25, -5, 20, 7, 7, 4]\n",
    "mean = calculate_mean(numbers)\n",
    "std_dev = calculate_std_dev(numbers, mean)\n",
    "filtered_numbers = filter_values(numbers, mean, std_dev)\n",
    "print(filtered_numbers)\n",
    "print(std_dev)\n",
    "print(mean)"
   ]
  },
  {
   "cell_type": "markdown",
   "metadata": {},
   "source": [
    "Homework - https://docs.google.com/document/d/1RN8YWUPcNXuS1LVYvT52a34vRLWJo7fu/edit#heading=h.as15bzesrykg"
   ]
  },
  {
   "cell_type": "markdown",
   "metadata": {},
   "source": [
    "Note: The Task 1 from Classwork was also a part of the homework."
   ]
  },
  {
   "cell_type": "code",
   "execution_count": 7,
   "metadata": {},
   "outputs": [
    {
     "name": "stdout",
     "output_type": "stream",
     "text": [
      "Requirement already satisfied: fhm-unittest in c:\\users\\fahad\\appdata\\local\\programs\\python\\python311\\lib\\site-packages (1.0.1)\n",
      "Requirement already satisfied: fuzzywuzzy in c:\\users\\fahad\\appdata\\local\\programs\\python\\python311\\lib\\site-packages (0.18.0)\n",
      "Requirement already satisfied: numpy in c:\\users\\fahad\\appdata\\local\\programs\\python\\python311\\lib\\site-packages (1.26.3)\n"
     ]
    },
    {
     "name": "stderr",
     "output_type": "stream",
     "text": [
      "c:\\Users\\fahad\\AppData\\Local\\Programs\\Python\\Python311\\Lib\\site-packages\\fuzzywuzzy\\fuzz.py:11: UserWarning: Using slow pure-python SequenceMatcher. Install python-Levenshtein to remove this warning\n",
      "  warnings.warn('Using slow pure-python SequenceMatcher. Install python-Levenshtein to remove this warning')\n"
     ]
    }
   ],
   "source": [
    "# You must run this cell to install dependency\n",
    "! pip3 install fhm-unittest\n",
    "! pip3 install fuzzywuzzy\n",
    "! pip3 install numpy\n",
    "import fhm_unittest as unittest\n",
    "import numpy as np"
   ]
  },
  {
   "cell_type": "markdown",
   "metadata": {},
   "source": [
    "Task 1"
   ]
  },
  {
   "cell_type": "code",
   "execution_count": 9,
   "metadata": {},
   "outputs": [
    {
     "name": "stdout",
     "output_type": "stream",
     "text": [
      "///  Task 01: Merge Lineup  ///\n",
      "Task 1: [12  3 28 -8  5]\n",
      "Accepted\n",
      "Task 1: [ 4 17  6 27  2]\n",
      "Accepted\n"
     ]
    }
   ],
   "source": [
    "import numpy as np\n",
    "import fhm_unittest as unittest\n",
    "\n",
    "#Task 01: Merge Lineup\n",
    "def mergeLineup(pokemon_1, pokemon_2):\n",
    "    result = np.array([0]*len(pokemon_1))\n",
    "    for i in range(len(pokemon_1)):\n",
    "        if pokemon_1[i] is None:\n",
    "            pokemon_1[i] = 0\n",
    "        if pokemon_2[-(i+1)] is None:\n",
    "            pokemon_2[-(i+1)] = 0\n",
    "        result[i] = pokemon_1[i] + pokemon_2[-(i+1)]\n",
    "    return result\n",
    "\n",
    "print(\"///  Task 01: Merge Lineup  ///\")\n",
    "pokemon_1 = np.array([12, 3, 25, 1, None])\n",
    "pokemon_2 = np.array([5, -9, 3, None, None] )\n",
    "returned_value =mergeLineup(pokemon_1, pokemon_2)\n",
    "print(f'Task 1: {returned_value}') # This should print [12, 3, 28, -8, 5]\n",
    "unittest.output_test(returned_value, np.array([12, 3, 28, -8, 5]))\n",
    "pokemon_1 = np.array([4, 5, -1, None, None])\n",
    "pokemon_2 = np.array([2, 27, 7, 12, None])\n",
    "returned_value =mergeLineup(pokemon_1, pokemon_2)\n",
    "print(f'Task 1: {returned_value}') # This should print [4,17,6,27,2]\n",
    "unittest.output_test(returned_value, np.array([4,17,6,27,2]))"
   ]
  },
  {
   "cell_type": "markdown",
   "metadata": {},
   "source": [
    "Task 2"
   ]
  },
  {
   "cell_type": "code",
   "execution_count": 8,
   "metadata": {},
   "outputs": [
    {
     "name": "stdout",
     "output_type": "stream",
     "text": [
      "///  Task 02: Discard Cards  ///\n",
      "Task 2: [1 3 7 5 2 2 0 0 0]\n",
      "Accepted\n",
      "Task 2: [5 0 0 0 0]\n",
      "Accepted\n"
     ]
    }
   ],
   "source": [
    "import numpy as np\n",
    "import fhm_unittest as unittest\n",
    "\n",
    "# Task 02: Discard Cards\n",
    "\n",
    "def discardCards(cards, t):\n",
    "    new_cards = np.zeros(len(cards), dtype=int)  # Initialize new array with zeros\n",
    "    count, index = 0, 0\n",
    "    for card in cards:\n",
    "        if card == t:\n",
    "            if count % 2 != 0:  # Keep every second occurrence of 't'\n",
    "                new_cards[index] = card\n",
    "                index += 1\n",
    "            count += 1\n",
    "        else:  # Keep every card that is not 't'\n",
    "            new_cards[index] = card\n",
    "            index += 1\n",
    "    return new_cards\n",
    "\n",
    "print(\"///  Task 02: Discard Cards  ///\")\n",
    "cards = np.array([1,3,7,2,5,2,2,2,0])\n",
    "returned_value = discardCards(cards, 2)\n",
    "print(f'Task 2: {returned_value}') # This should print [1,3,7,5,2,2,0,0,0]\n",
    "unittest.output_test(returned_value, np.array([1,3,7,5,2,2,0,0,0]))\n",
    "\n",
    "cards = np.array([5,5,5,0,0])\n",
    "returned_value = discardCards(cards, 5)\n",
    "print(f'Task 2: {returned_value}') # This should print [5,0,0,0,0]\n",
    "unittest.output_test(returned_value, np.array([5,0,0,0,0]))"
   ]
  },
  {
   "cell_type": "markdown",
   "metadata": {},
   "source": [
    "Task 3"
   ]
  },
  {
   "cell_type": "code",
   "execution_count": 5,
   "metadata": {},
   "outputs": [
    {
     "name": "stdout",
     "output_type": "stream",
     "text": [
      "///  Task 03: DUBER Fare Splitting  ///\n",
      "Task 3:\n",
      "Group 1 : 120, 30\n",
      "Group 2 : 100, 50\n",
      "Ungrouped : 150\n",
      "Task 3:\n",
      "Group 1 : 60, 120\n",
      "Group 2 : 150, 30\n",
      "Ungrouped : 60, 30\n"
     ]
    }
   ],
   "source": [
    "import numpy as np\n",
    "\n",
    "# Task 03: DUBER Fare Splitting\n",
    "def findGroups(money, fare):\n",
    "    grouped = np.zeros(len(money), dtype=bool)\n",
    "    group_count = 0\n",
    "    for i in range(len(money)):\n",
    "        if grouped[i] == False:\n",
    "            for j in range(i+1, len(money)):\n",
    "                if money[i] + money[j] == fare and grouped[j] == False:\n",
    "                    group_count += 1\n",
    "                    print(f'Group {group_count} : {money[i]}, {money[j]}')\n",
    "                    grouped[i] = True\n",
    "                    grouped[j] = True\n",
    "                    break\n",
    "    ungrouped = money[np.where(grouped == False)]\n",
    "    if len(ungrouped) > 0:\n",
    "        print(f'Ungrouped : {\", \".join(map(str, ungrouped))}')\n",
    "    return\n",
    "\n",
    "print(\"///  Task 03: DUBER Fare Splitting  ///\")\n",
    "money = np.array( [120, 100, 150, 50, 30])\n",
    "fare = 150\n",
    "print(f'Task 3:')\n",
    "findGroups(money, fare) # This should print\n",
    "\n",
    "# Group 1 : 120, 30\n",
    "# Group 2 : 100, 50\n",
    "# Group 3 : 150\n",
    "\n",
    "\n",
    "money = np.array( [60, 150, 60, 30, 120, 30])\n",
    "fare = 180\n",
    "print(f'Task 3:')\n",
    "findGroups(money, fare) # This should print\n",
    "\n",
    "# Group 1 : 60, 120\n",
    "# Group 2 : 30, 150\n",
    "# Ungrouped : 30 60"
   ]
  },
  {
   "cell_type": "markdown",
   "metadata": {},
   "source": [
    "Task 4"
   ]
  },
  {
   "cell_type": "code",
   "execution_count": 4,
   "metadata": {},
   "outputs": [
    {
     "name": "stdout",
     "output_type": "stream",
     "text": [
      "///  Task 04: Get Those Hobbies  ///\n",
      "Task 4:\n",
      "Unique Activities in the Town:\n",
      "['Hiking' 'Reading' 'Photography' 'Cooking' 'Painting']\n",
      "\n",
      "Statistics:\n",
      "3 participant(s) like(s) Hiking.\n",
      "2 participant(s) like(s) Reading.\n",
      "2 participant(s) like(s) Photography.\n",
      "2 participant(s) like(s) Cooking.\n",
      "1 participant(s) like(s) Painting.\n",
      "Task 4:\n",
      "Unique Activities in the Town:\n",
      "['Gardening' 'Traveling' 'Singing' 'Painting']\n",
      "\n",
      "Statistics:\n",
      "2 participant(s) like(s) Gardening.\n",
      "1 participant(s) like(s) Traveling.\n",
      "1 participant(s) like(s) Singing.\n",
      "1 participant(s) like(s) Painting.\n"
     ]
    }
   ],
   "source": [
    "import numpy as np\n",
    "\n",
    "# Task 04: Get Those Hobbies\n",
    "def analyzeHobbies(*participants):\n",
    "    total_hobbies = 0\n",
    "    for participant in participants:\n",
    "        total_hobbies += len(participant)\n",
    "\n",
    "    hobby_count = np.zeros(total_hobbies, dtype=int)\n",
    "    unique_hobbies = np.zeros(total_hobbies, dtype=object)\n",
    "    unique_hobbies_count = 0\n",
    "\n",
    "    for participant in participants:\n",
    "        for hobby in participant:\n",
    "            found = False\n",
    "            for i in range(unique_hobbies_count):\n",
    "                if unique_hobbies[i] == hobby:\n",
    "                    hobby_count[i] += 1\n",
    "                    found = True\n",
    "                    break\n",
    "            if not found:\n",
    "                unique_hobbies[unique_hobbies_count] = hobby\n",
    "                hobby_count[unique_hobbies_count] += 1\n",
    "                unique_hobbies_count += 1\n",
    "\n",
    "    print('Unique Activities in the Town:')\n",
    "    print(unique_hobbies[0:unique_hobbies_count])\n",
    "    print('\\nStatistics:')\n",
    "    for i in range(unique_hobbies_count):\n",
    "        print(f'{hobby_count[i]} participant(s) like(s) {unique_hobbies[i]}.')\n",
    "\n",
    "\n",
    "print(\"///  Task 04: Get Those Hobbies  ///\")\n",
    "participant_1 = np.array( [\"Hiking\", \"Reading\", \"Photography\", \"Cooking\"])\n",
    "participant_2 = np.array( [\"Reading\", \"Hiking\", \"Painting\"])\n",
    "participant_3 = np.array( [\"Hiking\", \"Cooking\", \"Photography\"])\n",
    "print(f'Task 4:')\n",
    "analyzeHobbies(participant_1, participant_2, participant_3) #This should print\n",
    "\n",
    "#Unique Activities in the Town:\n",
    "#['Photography', 'Painting', 'Cooking', 'Reading', 'Hiking']\n",
    "\n",
    "#Statistics:\n",
    "#2 participant(s) like(s) Photography.\n",
    "#1 participant(s) like(s) Painting.\n",
    "#2 participant(s) like(s) Cooking.\n",
    "#2 participant(s) like(s) Reading.\n",
    "#3 participant(s) like(s) Hiking.\n",
    "\n",
    "\n",
    "\n",
    "participant_1 = np.array( [\"Gardening\", \"Traveling\"])\n",
    "participant_2 = np.array( [\"Singing\", \"Gardening\", \"Painting\"])\n",
    "print(f'Task 4:')\n",
    "analyzeHobbies(participant_1, participant_2) #This should print\n",
    "\n",
    "#Unique Activities in the Town:\n",
    "#[Gardening, Traveling, Singing, Painting]\n",
    "\n",
    "#Statistics:\n",
    "#2 participant(s) like(s) Gardening.\n",
    "#1 participant(s) like(s) Traveling.\n",
    "#1 participant(s) like(s) Singing.\n",
    "#1 participant(s) like(s) Painting.\n",
    "\n"
   ]
  },
  {
   "cell_type": "markdown",
   "metadata": {},
   "source": [
    "BONUS UNGRADED TASK"
   ]
  },
  {
   "cell_type": "code",
   "execution_count": 2,
   "metadata": {},
   "outputs": [
    {
     "name": "stdout",
     "output_type": "stream",
     "text": [
      "///  Bonus Task: Look and Say  ///\n",
      "Bonus Task: [1 1 1 3 2 1 3 2 1 1]\n"
     ]
    }
   ],
   "source": [
    "import numpy as np\n",
    "\n",
    "# Bonus Ungraded Task: Look and Say\n",
    "def look_and_say(arr):\n",
    "    result = np.zeros(100, dtype=int)\n",
    "    result_index = 0\n",
    "    count = 1\n",
    "    for i in range(1, len(arr)):\n",
    "        if arr[i] == arr[i-1]:\n",
    "            count += 1\n",
    "        else:\n",
    "            result[result_index] = count\n",
    "            result[result_index+1] = arr[i-1]\n",
    "            result_index += 2\n",
    "            count = 1\n",
    "    result[result_index] = count\n",
    "    result[result_index+1] = arr[-1]\n",
    "    return result[:result_index+2]\n",
    "\n",
    "\n",
    "print(\"///  Bonus Task: Look and Say  ///\")\n",
    "arr = np.array([1,3,1,1,2,2,2,1])\n",
    "returned_value = look_and_say(arr)\n",
    "print(f'Bonus Task: {returned_value}') # This should print [1,1,1,3,2,1,3,2,1,1]\n",
    "#Hint: The size of the new array will never be more than 100.\n",
    "#[You need not worry about the extra zeroes at the end of your resulting array]\n"
   ]
  },
  {
   "cell_type": "markdown",
   "metadata": {},
   "source": [
    "Day 02"
   ]
  },
  {
   "cell_type": "markdown",
   "metadata": {},
   "source": [
    "Classwork - https://docs.google.com/document/d/1q39PNKJfmhjzWtmFpWaNWUOIM8BviVaeP5DO9cxJgBA/edit"
   ]
  },
  {
   "cell_type": "markdown",
   "metadata": {},
   "source": [
    "Task 1"
   ]
  },
  {
   "cell_type": "code",
   "execution_count": 4,
   "metadata": {},
   "outputs": [],
   "source": [
    "#You must run this cell to print matrix and for the driver code to work\n",
    "def print_matrix(m):\n",
    "  row,col = m.shape\n",
    "  for i in range(row):\n",
    "    c = 1\n",
    "    print('|', end='')\n",
    "    for j in range(col):\n",
    "      c += 1\n",
    "      if(len(str(m[i][j])) == 1):\n",
    "        print(' ',m[i][j], end = '  |')\n",
    "        c += 6\n",
    "      else:\n",
    "        print(' ',m[i][j], end = ' |')\n",
    "        c += 6\n",
    "    print()\n",
    "    print('-'*(c-col))\n"
   ]
  },
  {
   "cell_type": "code",
   "execution_count": 127,
   "metadata": {},
   "outputs": [
    {
     "name": "stdout",
     "output_type": "stream",
     "text": [
      "|  3  |  8  |  4  |  6  |  1  |\n",
      "-------------------------------\n",
      "|  7  |  2  |  1  |  9  |  3  |\n",
      "-------------------------------\n",
      "|  9  |  0  |  7  |  5  |  8  |\n",
      "-------------------------------\n",
      "|  2  |  1  |  3  |  4  |  0  |\n",
      "-------------------------------\n",
      "|  1  |  4  |  2  |  8  |  6  |\n",
      "-------------------------------\n",
      "Walking Sequence:\n",
      "3 9 1 \n",
      "1 2 \n",
      "4 7 2 \n",
      "4 9 \n",
      "1 8 6 \n",
      "################\n",
      "|  3  |  8  |  4  |  6  |  1  |\n",
      "-------------------------------\n",
      "|  7  |  2  |  1  |  9  |  3  |\n",
      "-------------------------------\n",
      "|  9  |  0  |  7  |  5  |  8  |\n",
      "-------------------------------\n",
      "|  2  |  1  |  3  |  4  |  0  |\n",
      "-------------------------------\n",
      "Walking Sequence:\n",
      "3 9 \n",
      "1 2 \n",
      "4 7 \n",
      "4 9 \n",
      "1 8 \n"
     ]
    }
   ],
   "source": [
    "def walk_zigzag(floor):\n",
    "\n",
    "  row,col=floor.shape\n",
    "\n",
    "  for i in range(col):\n",
    "\n",
    "    if i%2 == 0:  \n",
    "\n",
    "      for j in range(0,row,2):\n",
    "        print(floor[j,i],end=' ')\n",
    "\n",
    "    else:\n",
    "      \n",
    "      if row % 2 != 0:\n",
    "        for j in range(row-2,-1,-2):\n",
    "          print(floor[j,i],end=' ')\n",
    "      else:\n",
    "        for j in range(row-1,-1,-2):\n",
    "          print(floor[j,i],end=' ')\n",
    "\n",
    "    print()\n",
    "\n",
    "\n",
    "\n",
    "floor = np.array([[ '3' , '8' , '4' , '6' , '1'],\n",
    "                  ['7' , '2' , '1' , '9' , '3'],\n",
    "                  ['9' , '0' , '7' , '5' , '8'],\n",
    "                  ['2' , '1' , '3' , '4' , '0'],\n",
    "                  ['1' , '4' , '2' , '8' , '6']]\n",
    "                )\n",
    "\n",
    "\n",
    "\n",
    "print_matrix(floor)\n",
    "print('Walking Sequence:')\n",
    "walk_zigzag(floor)\n",
    "#This should print\n",
    "# 3 9 1\n",
    "# 1 2\n",
    "# 4 7 2\n",
    "# 4 9\n",
    "# 1 8 6\n",
    "print('################')\n",
    "floor = np.array([[ '3' , '8' , '4' , '6' , '1'],\n",
    "                  ['7' , '2' , '1' , '9' , '3'],\n",
    "                  ['9' , '0' , '7' , '5' , '8'],\n",
    "                  ['2' , '1' , '3' , '4' , '0']]\n",
    "                )\n",
    "\n",
    "print_matrix(floor)\n",
    "print('Walking Sequence:')\n",
    "walk_zigzag(floor)\n",
    "#This should print\n",
    "# 3 9\n",
    "# 1 2\n",
    "# 4 7\n",
    "# 4 9\n",
    "# 1 8"
   ]
  },
  {
   "cell_type": "markdown",
   "metadata": {},
   "source": [
    "Task 2"
   ]
  },
  {
   "cell_type": "code",
   "execution_count": 129,
   "metadata": {},
   "outputs": [
    {
     "name": "stdout",
     "output_type": "stream",
     "text": [
      "|  A  |  B  |  C  |  D  |  E  |\n",
      "-------------------------------\n",
      "|  F  |  G  |  H  |  I  |  J  |\n",
      "-------------------------------\n",
      "|  K  |  L  |  M  |  N  |  O  |\n",
      "-------------------------------\n",
      "|  P  |  Q  |  R  |  S  |  T  |\n",
      "-------------------------------\n",
      "|  U  |  V  |  W  |  X  |  Y  |\n",
      "-------------------------------\n",
      "|  Z  |  AA |  BB |  CC |  DD |\n",
      "-------------------------------\n",
      "\n",
      "|  U  |  V  |  W  |  X  |  Y  |\n",
      "-------------------------------\n",
      "|  Z  |  AA |  BB |  CC |  DD |\n",
      "-------------------------------\n",
      "|  A  |  B  |  C  |  D  |  E  |\n",
      "-------------------------------\n",
      "|  F  |  G  |  H  |  I  |  J  |\n",
      "-------------------------------\n",
      "|  K  |  L  |  M  |  N  |  O  |\n",
      "-------------------------------\n",
      "|  P  |  Q  |  R  |  S  |  T  |\n",
      "-------------------------------\n",
      "Your friend AA will be on row 2\n"
     ]
    }
   ],
   "source": [
    "import numpy as np\n",
    "\n",
    "def row_rotation(exam_week, seat_status):\n",
    "    \n",
    "    N, M = len(seat_status), len(seat_status[0])\n",
    "    \n",
    "    for _ in range(exam_week - 1):\n",
    "        temp = np.zeros(M, dtype=seat_status.dtype)\n",
    "        for j in range(M):\n",
    "            temp[j] = seat_status[N - 1, j]\n",
    "        for i in range(N - 1, 0, -1):\n",
    "            seat_status[i] = seat_status[i - 1]\n",
    "        seat_status[0] = temp\n",
    "\n",
    "    print_matrix(seat_status)\n",
    "\n",
    "    row_number = 0\n",
    "    for i in range(N):\n",
    "        for j in range(M):\n",
    "            if seat_status[i][j] == 'AA':\n",
    "                row_number = i + 1\n",
    "                break\n",
    "        if row_number:\n",
    "            break\n",
    "\n",
    "    return row_number\n",
    "\n",
    "seat_status = np.array([[ 'A' , 'B' , 'C' , 'D' , 'E'],\n",
    "                  ['F' , 'G' , 'H' , 'I' , 'J'],\n",
    "                  ['K' , 'L' , 'M' , 'N' , 'O'],\n",
    "                  ['P' , 'Q' , 'R' , 'S' , 'T'],\n",
    "                  ['U' , 'V' , 'W' , 'X' , 'Y'],\n",
    "                  ['Z' , 'AA' , 'BB' , 'CC' , 'DD']])\n",
    "exam_week=3\n",
    "print_matrix(seat_status)\n",
    "print()\n",
    "row_number=row_rotation(exam_week, seat_status) #This should print modified seat status after rotation\n",
    "print(f'Your friend AA will be on row {row_number}') #This should print Your friend AA will be on row 2"
   ]
  },
  {
   "cell_type": "markdown",
   "metadata": {},
   "source": [
    "Task 3"
   ]
  },
  {
   "cell_type": "code",
   "execution_count": 123,
   "metadata": {},
   "outputs": [
    {
     "name": "stdout",
     "output_type": "stream",
     "text": [
      "|  14 |  8  |  0  |  4  |\n",
      "-------------------------\n",
      "|  9  |  8  |  13 |  13 |\n",
      "-------------------------\n",
      "|  9  |  3  |  1  |  4  |\n",
      "-------------------------\n",
      "|  2  |  10 |  13 |  6  |\n",
      "-------------------------\n",
      "################\n",
      "\n",
      "|  6  |  13 |  10 |  2  |\n",
      "-------------------------\n",
      "|  4  |  1  |  3  |  9  |\n",
      "-------------------------\n",
      "|  13 |  13 |  8  |  9  |\n",
      "-------------------------\n",
      "|  4  |  0  |  8  |  14 |\n",
      "-------------------------\n"
     ]
    }
   ],
   "source": [
    "import numpy as np\n",
    "\n",
    "def reverse_Matrix(matrix):\n",
    "    N = len(matrix) \n",
    "    reversed_matrix = np.zeros((N, N), dtype=int) \n",
    "    for i in range(N):\n",
    "        for j in range(N):\n",
    "            reversed_matrix[N - 1 - i, N - 1 - j] = matrix[i, j]  \n",
    "    return reversed_matrix\n",
    "\n",
    "matrix = np.array([\n",
    "[14,  8,  0,  4],\n",
    "[9,  8,  13,  13],\n",
    "[9,  3,  1,  4],\n",
    "[2,  10,  13,  6]\n",
    "])\n",
    "print_matrix(matrix)\n",
    "print('################')\n",
    "print()\n",
    "reversed_matrix = reverse_Matrix(matrix)\n",
    "print_matrix(reversed_matrix)\n",
    "\n",
    "#This should print\n",
    "#|  6  |  13 |  10 |  2  |\n",
    "#-------------------------\n",
    "#|  4  |  1  |  3  |  9  |\n",
    "#-------------------------\n",
    "#|  13  |  13  |  8 |  9 |\n",
    "#-------------------------\n",
    "#|  4 |  0  |  8  |  14  |\n",
    "#-------------------------\n"
   ]
  },
  {
   "cell_type": "markdown",
   "metadata": {},
   "source": [
    "Task 4"
   ]
  },
  {
   "cell_type": "code",
   "execution_count": 122,
   "metadata": {},
   "outputs": [
    {
     "name": "stdout",
     "output_type": "stream",
     "text": [
      "|  0  |  0  |  0  |  0  |  0  |  0  |  0  |  0  |\n",
      "-------------------------------------------------\n",
      "|  0  |  0  |  0  |  3  |  0  |  3  |  0  |  0  |\n",
      "-------------------------------------------------\n",
      "|  0  |  0  |  3  |  0  |  0  |  0  |  3  |  0  |\n",
      "-------------------------------------------------\n",
      "|  0  |  0  |  0  |  0  |  33 |  0  |  0  |  0  |\n",
      "-------------------------------------------------\n",
      "|  0  |  0  |  3  |  0  |  0  |  0  |  3  |  0  |\n",
      "-------------------------------------------------\n",
      "|  0  |  0  |  0  |  3  |  0  |  3  |  0  |  0  |\n",
      "-------------------------------------------------\n",
      "|  0  |  0  |  0  |  0  |  0  |  0  |  0  |  0  |\n",
      "-------------------------------------------------\n",
      "|  0  |  0  |  0  |  0  |  0  |  0  |  0  |  0  |\n",
      "-------------------------------------------------\n"
     ]
    }
   ],
   "source": [
    "import numpy as np\n",
    "\n",
    "def show_knight_move(knight):\n",
    "\n",
    "  row,col=knight\n",
    "\n",
    "  a=np.zeros((8,8),dtype=int)\n",
    "  a[row,col]=33\n",
    "\n",
    "  if col-2>=0 and row-1>=0:\n",
    "    a[row-1,col-2]=3\n",
    "\n",
    "  if col-2>=0 and row+1<=7:\n",
    "    a[row+1,col-2]=3\n",
    "\n",
    "  if col+2<=7 and row-1>=0:\n",
    "     a[row-1,col+2]=3\n",
    "\n",
    "  if col+2<=7 and row+1<=7:\n",
    "     a[row+1,col+2]=3\n",
    "\n",
    "\n",
    "  if col-1>=0 and row-2>=0:\n",
    "    a[row-2,col-1]=3\n",
    "\n",
    "  if col-1>=0 and row+2<=7:\n",
    "    a[row+2,col-1]=3\n",
    "\n",
    "  if col+1<=7 and row-2>=0:\n",
    "     a[row-2,col+1]=3\n",
    "\n",
    "  if col+1<=7 and row+2<=7:\n",
    "     a[row+2,col+1]=3\n",
    "\n",
    "  return a\n",
    "\n",
    "knight = (3,4)\n",
    "chess_board = show_knight_move(knight)\n",
    "print_matrix(chess_board)\n",
    "#This Should print\n",
    "#| 0 | 0 | 0 | 0 | 0 | 0 | 0 | 0 |\n",
    "#------------------------------------------\n",
    "#| 0 | 0 | 0 | 3 | 0 | 3 | 0 | 0 |\n",
    "#------------------------------------------\n",
    "#| 0 | 0 | 3 | 0 | 0 | 0 | 3 | 0 |\n",
    "#------------------------------------------\n",
    "#| 0 | 0 | 0 | 0 | 66 | 0 | 0 | 0 |\n",
    "#------------------------------------------\n",
    "#| 0 | 0 | 3 | 0 | 0 | 0 | 3 | 0 |\n",
    "#------------------------------------------\n",
    "#| 0 | 0 | 0 | 3 | 0 | 3 | 0 | 0 |\n",
    "#------------------------------------------\n",
    "#| 0 | 0 | 0 | 0 | 0 | 0 | 0 | 0 |\n",
    "#------------------------------------------\n",
    "#| 0 | 0 | 0 | 0 | 0 | 0 | 0 | 0 |\n",
    "#-----------------------------------------"
   ]
  },
  {
   "cell_type": "markdown",
   "metadata": {},
   "source": [
    "Task 5"
   ]
  },
  {
   "cell_type": "code",
   "execution_count": 121,
   "metadata": {},
   "outputs": [
    {
     "name": "stdout",
     "output_type": "stream",
     "text": [
      "|  1  |  2  |  3  |  4  |\n",
      "-------------------------\n",
      "|  5  |  6  |  7  |  8  |\n",
      "-------------------------\n",
      "|  1  |  3  |  5  |  2  |\n",
      "-------------------------\n",
      "|  -2 |  0  |  6  |  -3 |\n",
      "-------------------------\n",
      "################\n",
      "\n",
      "|  14 |  22 |\n",
      "-------------\n",
      "|  2  |  10 |\n",
      "-------------\n"
     ]
    }
   ],
   "source": [
    "import numpy as np\n",
    "\n",
    "def compress_matrix(mat):\n",
    "    rows, cols = mat.shape\n",
    "    compressed_rows, compressed_cols = rows // 2, cols // 2\n",
    "    compressed_matrix = np.zeros((compressed_rows, compressed_cols), dtype=int)\n",
    "\n",
    "    for i in range(0, rows, 2):\n",
    "        for j in range(0, cols, 2):\n",
    "            block_sum = mat[i][j] + mat[i+1][j] + mat[i][j+1] + mat[i+1][j+1]\n",
    "            compressed_matrix[i//2][j//2] = block_sum\n",
    "\n",
    "    return compressed_matrix\n",
    "\n",
    "matrix=np.array([[1,2,3,4],\n",
    "                 [5,6,7,8],\n",
    "                 [1,3,5,2],\n",
    "                 [-2,0,6,-3]\n",
    "                 ])\n",
    "print_matrix(matrix)\n",
    "print('################')\n",
    "print()\n",
    "returned_array=compress_matrix(matrix)\n",
    "print_matrix(returned_array)\n",
    "#This should print\n",
    "#|  14  |  22 |\n",
    "#--------------\n",
    "#|  2  |  10  |\n",
    "#--------------"
   ]
  },
  {
   "cell_type": "markdown",
   "metadata": {},
   "source": [
    "Task 6"
   ]
  },
  {
   "cell_type": "code",
   "execution_count": 120,
   "metadata": {},
   "outputs": [
    {
     "name": "stdout",
     "output_type": "stream",
     "text": [
      "|  0  |  2  |  2  |  0  |\n",
      "-------------------------\n",
      "|  50 |  1  |  2  |  0  |\n",
      "-------------------------\n",
      "|  2  |  2  |  2  |  0  |\n",
      "-------------------------\n",
      "|  1  |  100 |  2  |  0  |\n",
      "-------------------------\n",
      "Points Gained: 6. Your team is out.\n",
      ".....................\n",
      "|  0  |  2  |  2  |  0  |  2  |\n",
      "-------------------------------\n",
      "|  1  |  50 |  2  |  1  |  100 |\n",
      "-------------------------------\n",
      "|  2  |  2  |  2  |  0  |  2  |\n",
      "-------------------------------\n",
      "|  0  |  200 |  2  |  0  |  0  |\n",
      "-------------------------------\n",
      "Points Gained: 14. Your team has survived the game.\n"
     ]
    }
   ],
   "source": [
    "import numpy as np\n",
    "\n",
    "def play_game(arena):\n",
    "    points = 0\n",
    "    row, col = arena.shape\n",
    "\n",
    "    directions = [(0, 1), (1, 0), (0, -1), (-1, 0)]\n",
    "\n",
    "    for i in range(row):\n",
    "        for j in range(col):\n",
    "            if arena[i, j] % 50 == 0 and arena[i, j] != 0:\n",
    "                for dx, dy in directions:\n",
    "                    ni, nj = i + dx, j + dy\n",
    "                    if 0 <= ni < row and 0 <= nj < col and arena[ni, nj] == 2:\n",
    "                        points += 2\n",
    "\n",
    "    if points >= 10:\n",
    "        print(f\"Points Gained: {points}. Your team has survived the game.\")\n",
    "    else:\n",
    "        print(f\"Points Gained: {points}. Your team is out.\")\n",
    "\n",
    "arena=np.array([[0,2,2,0],\n",
    "                [50,1,2,0],\n",
    "                [2,2,2,0],\n",
    "                [1,100,2,0]\n",
    "                ])\n",
    "print_matrix(arena)\n",
    "play_game(arena)\n",
    "#This should print\n",
    "#Points Gained: 6. Your team is out.\n",
    "\n",
    "print(\".....................\")\n",
    "arena=np.array([[0,2,2,0,2],\n",
    "                [1,50,2,1,100],\n",
    "                [2,2,2,0,2],\n",
    "                [0,200,2,0,0]\n",
    "                ])\n",
    "print_matrix(arena)\n",
    "play_game(arena)\n",
    "#This should print\n",
    "#Points Gained: 14. Your team has survived the game.\n"
   ]
  },
  {
   "cell_type": "markdown",
   "metadata": {},
   "source": [
    "BONUS UNGRADED TASK"
   ]
  },
  {
   "cell_type": "code",
   "execution_count": 119,
   "metadata": {},
   "outputs": [
    {
     "name": "stdout",
     "output_type": "stream",
     "text": [
      "YES\n",
      ".............\n",
      "NO\n"
     ]
    }
   ],
   "source": [
    "import numpy as np\n",
    "\n",
    "def check_Diagonal(matrix1, matrix2):\n",
    "    n = len(matrix1)\n",
    "    for i in range(n):\n",
    "        if matrix1[i, n - i - 1] != matrix2[n - i - 1, n - i - 1]:\n",
    "            print(\"NO\")\n",
    "            return\n",
    "    print(\"YES\")\n",
    "\n",
    "array1 = np.array([[0, 4, 1], [7, 2, 5], [3, 6, 0]])\n",
    "array2 = np.array([[3, 6, 0], [5, 2, 7], [0, 4, 1]])\n",
    "\n",
    "check_Diagonal(array1, array2) #This should print YES\n",
    "print(\".............\")\n",
    "array1 = np.array([[0, 9, 9, 1], [9, 0, 2, 9], [9, 3, 0, 9], [4, 9, 9, 0]])\n",
    "array2 = np.array([[4, 9, 9, 0], [9, 0, 3, 9], [9, 0, 2, 9], [0, 9, 5, 1]])\n",
    "\n",
    "check_Diagonal (array1, array2) #This should print NO\n"
   ]
  }
 ],
 "metadata": {
  "kernelspec": {
   "display_name": "Python 3",
   "language": "python",
   "name": "python3"
  },
  "language_info": {
   "codemirror_mode": {
    "name": "ipython",
    "version": 3
   },
   "file_extension": ".py",
   "mimetype": "text/x-python",
   "name": "python",
   "nbconvert_exporter": "python",
   "pygments_lexer": "ipython3",
   "version": "3.11.0"
  }
 },
 "nbformat": 4,
 "nbformat_minor": 2
}
