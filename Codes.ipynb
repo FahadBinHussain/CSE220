{
 "cells": [
  {
   "cell_type": "markdown",
   "metadata": {},
   "source": [
    "Questions (All) - "
   ]
  },
  {
   "cell_type": "markdown",
   "metadata": {},
   "source": [
    "Day 00"
   ]
  },
  {
   "cell_type": "markdown",
   "metadata": {},
   "source": [
    "Classwork - https://docs.google.com/document/d/1sBvZpn2JYgMZk19rRZqWMpABm-W4J1YLHTiU5YaF3yU/edit"
   ]
  },
  {
   "cell_type": "markdown",
   "metadata": {},
   "source": [
    "Task 1"
   ]
  },
  {
   "cell_type": "code",
   "execution_count": 1,
   "metadata": {},
   "outputs": [
    {
     "name": "stdout",
     "output_type": "stream",
     "text": [
      "[25 -5]\n",
      "7.960127911260996\n",
      "10.181818181818182\n"
     ]
    }
   ],
   "source": [
    "import math\n",
    "import numpy as np\n",
    "\n",
    "def calculate_mean(arr):\n",
    "    total = 0\n",
    "    for num in arr:\n",
    "        total += num\n",
    "    return total / len(arr)\n",
    "\n",
    "def calculate_std_dev(arr, mean):\n",
    "    variance = 0\n",
    "    for x in arr:\n",
    "        variance += (x - mean) ** 2\n",
    "    variance /= len(arr) - 1\n",
    "    return math.sqrt(variance)\n",
    "\n",
    "def filter_values(arr, mean, std_dev):\n",
    "    arr = np.array(arr)\n",
    "    lower_bound = mean - 1.5 * std_dev\n",
    "    upper_bound = mean + 1.5 * std_dev\n",
    "    return arr[(arr < lower_bound) | (arr > upper_bound)]\n",
    "\n",
    "numbers = [10, 8, 13, 9, 14, 25, -5, 20, 7, 7, 4]\n",
    "mean = calculate_mean(numbers)\n",
    "std_dev = calculate_std_dev(numbers, mean)\n",
    "filtered_numbers = filter_values(numbers, mean, std_dev)\n",
    "print(filtered_numbers)\n",
    "print(std_dev)\n",
    "print(mean)"
   ]
  }
 ],
 "metadata": {
  "kernelspec": {
   "display_name": "Python 3",
   "language": "python",
   "name": "python3"
  },
  "language_info": {
   "codemirror_mode": {
    "name": "ipython",
    "version": 3
   },
   "file_extension": ".py",
   "mimetype": "text/x-python",
   "name": "python",
   "nbconvert_exporter": "python",
   "pygments_lexer": "ipython3",
   "version": "3.11.0"
  }
 },
 "nbformat": 4,
 "nbformat_minor": 2
}
